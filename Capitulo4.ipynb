{
  "nbformat": 4,
  "nbformat_minor": 0,
  "metadata": {
    "colab": {
      "name": "Capitulo4.ipynb",
      "provenance": [],
      "authorship_tag": "ABX9TyMxC2LljZuS2JmTpDItifUM",
      "include_colab_link": true
    },
    "kernelspec": {
      "name": "python3",
      "display_name": "Python 3"
    },
    "language_info": {
      "name": "python"
    }
  },
  "cells": [
    {
      "cell_type": "markdown",
      "metadata": {
        "id": "view-in-github",
        "colab_type": "text"
      },
      "source": [
        "<a href=\"https://colab.research.google.com/github/msap-uai/PythonDeepLearning/blob/main/Capitulo4.ipynb\" target=\"_parent\"><img src=\"https://colab.research.google.com/assets/colab-badge.svg\" alt=\"Open In Colab\"/></a>"
      ]
    },
    {
      "cell_type": "markdown",
      "source": [
        "# CAPÍTULO 4. Redes neuronales densamente conectadas"
      ],
      "metadata": {
        "id": "RAA50FH_blrU"
      }
    },
    {
      "cell_type": "markdown",
      "source": [
        "reconocimiento de dígitos \n",
        "En este apartado, presentamos los datos que usaremos para nuestro primer ejem- \n",
        "plo de redes neuronales: el conjunto de datos MNIST, que contiene imágenes de \n",
        "dígitos escritos a mano.\n"
      ],
      "metadata": {
        "id": "gcEfPYFHb0T4"
      }
    },
    {
      "cell_type": "code",
      "execution_count": null,
      "metadata": {
        "id": "DoZrK1P2bggf"
      },
      "outputs": [],
      "source": [
        ""
      ]
    },
    {
      "cell_type": "markdown",
      "source": [
        "1. Modelos\n",
        " * algoritmos de regresión modelan la relación entre distintas variables de entrada (features) utilizando una medida de error, la loss (que \n",
        "presentaremos en detalle en el siguiente capítulo), que se intentará minimizar en un proceso iterativo para poder realizar predicciones «lo más acertadas posibles». \n",
        "Hablaremos de dos tipos: regresión logística y regresión lineal. \n",
        "La diferencia principal entre regresión logística y lineal es en el tipo de salida de  los modelos; cuando nuestra salida es discreta hablamos de regresión logística, y  cuando la salida es continua hablamos de regresión lineal.\n",
        "* clasificacion \n",
        "\n",
        "y=wx+b\n",
        "* y es la etiqueta de una muestra de entrada. \n",
        "* x representa las características de la muestra. \n",
        "* w es la pendiente de la recta y que, en general, llamaremos peso (o weight en \n",
        "inglés) y es uno de los dos parámetros que tendrá que aprender el modelo du- \n",
        "rante el proceso de entrenamiento para poder usarlo luego para la inferencia. \n",
        "* b es lo que llamamos sesgo (o bias en inglés ) . Este es el otro de los pará- \n",
        "metros que deben ser aprendidos por el modelo.\n",
        "\n",
        "2. Fase de entrenamiento o aprendizaje ( training en inglés), que es cuando se \n",
        "crea o se «aprende» el modelo, a partir de mostrarle las muestras de entrada \n",
        "que se tienen etiquetadas; de esta manera se consigue que el modelo aprenda \n",
        "iterativamente las relaciones entre las características y las etiquetas de las \n",
        "muestras. \n",
        "3. Fase de inferencia o predicción ( inference en inglés), que se refiere al proceso \n",
        "de hacer predicciones mediante la aplicación del modelo ya entrenado a mues- \n",
        "tras de las que no se dispone de etiqueta y que se quiere predecir."
      ],
      "metadata": {
        "id": "FhxYLUNLcF2H"
      }
    }
  ]
}