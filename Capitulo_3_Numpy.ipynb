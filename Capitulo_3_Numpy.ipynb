{
  "nbformat": 4,
  "nbformat_minor": 0,
  "metadata": {
    "colab": {
      "name": "Capitulo 3 Numpy.ipynb",
      "provenance": [],
      "authorship_tag": "ABX9TyPiXAjTjfJGtrcoiWmTMGar",
      "include_colab_link": true
    },
    "kernelspec": {
      "name": "python3",
      "display_name": "Python 3"
    },
    "language_info": {
      "name": "python"
    }
  },
  "cells": [
    {
      "cell_type": "markdown",
      "metadata": {
        "id": "view-in-github",
        "colab_type": "text"
      },
      "source": [
        "<a href=\"https://colab.research.google.com/github/msap-uai/PythonDeepLearning/blob/main/Capitulo_3_Numpy.ipynb\" target=\"_parent\"><img src=\"https://colab.research.google.com/assets/colab-badge.svg\" alt=\"Open In Colab\"/></a>"
      ]
    },
    {
      "cell_type": "markdown",
      "source": [
        "# Librerias\n",
        "Libreria de relevancia para usar\n",
        "\n",
        "1. **NumPy** es la librería que permite un cálculo numérico fácil y eficiente, y la librería sobre la que muchas otras librerías están construidas. \n",
        "2. **Pandas** es una librería para estructuras de datos y análisis exploratorios \n",
        "que está construida sobre NumPy. \n",
        "3. **Matplotlib** es una librería de visualización que usaremos a lo largo de \n",
        "este libro para presentar diferentes tipos de gráficas. \n",
        "4. Scikit-Learn es la principal librería de Machine Learning de uso general \n",
        "en Python. Tiene muchos algoritmos y módulos muy populares para pre- \n",
        "procesamiento, validación, etc."
      ],
      "metadata": {
        "id": "ZnDKBY3OPJEZ"
      }
    },
    {
      "cell_type": "markdown",
      "source": [
        "Tensor \n",
        "Keras usa un array multidimensional de NumPy como estructura básica de datos, y \n",
        "llama a esta estructura de datos «tensor». De manera resumida podríamos decir \n",
        "que un tensor tiene tres atributos principales: número de ejes, forma y tipo de \n",
        "datos. Veamos cada uno de ellos: \n",
        " \n",
        "* **Número de ejes (rank)** : a un tensor que contiene un solo número lo llama- \n",
        "remos scalar (o tensor 0-dimensional, o tensor 0D). Un array de números lo lla- \n",
        "mamos vector, o tensor 1D. Un array de vectores será una matriz (matrix) , o \n",
        "tensor 2D. Si empaquetamos esta matriz en un nuevo array , obtenemos un ten- \n",
        "sor 3D, que podemos interpretar visualmente como un cubo de números. \n",
        "Empaquetando un tensor 3D en un array , podemos crear un tensor 4D, y así \n",
        "sucesivamente. En la librería NumPy de Python esto se llama ndim del tensor. \n",
        "•Forma: se trata de una tupla de enteros que describen cuántas dimensiones \n",
        "tiene el tensor en cada eje. En la librería NumPy este atributo se llama shape . \n",
        "Un vector tiene un shape con un único elemento, por ejemplo «(5)», mientras \n",
        "que un escalar tiene un shape vacío «( )». \n",
        "\n",
        "* **Tipo de datos**: este atributo indica el tipo de datos que contiene el tensor, que \n",
        "pueden ser por ejemplo uint8 , float32 , float64 , etc. En raras ocasiones tene- \n",
        "mos, en nuestro contexto, tensores de tipo char (nunca string ). En la librería \n",
        "NumPy este atributo se llama dtype ."
      ],
      "metadata": {
        "id": "nYPObjCrQAze"
      }
    },
    {
      "cell_type": "code",
      "execution_count": 5,
      "metadata": {
        "colab": {
          "base_uri": "https://localhost:8080/"
        },
        "id": "TyAIJ8t4OUE_",
        "outputId": "4fb593a3-4afa-4cc0-a550-d2696d4a487d"
      },
      "outputs": [
        {
          "output_type": "stream",
          "name": "stdout",
          "text": [
            "x:  8\n",
            "x ndim:  0\n",
            "x shape: ()\n",
            "x size:  1\n",
            "x dtype:  int64\n"
          ]
        }
      ],
      "source": [
        "import numpy as np # importa libreria\n",
        "  \n",
        "x = np.array(8) # crea un array 1D con el valor 8\n",
        "# x = np.array([2.3 , 4.2 , 3.3, 1.8]) # array 2d?\n",
        "# x = np.array([[1,2,3], [4,5,6], [7,8,9]]) # 3D\n",
        "# x = np.array([[[1,2],[3,4]],[[5,6],[7,8]]]) # 4D\n",
        "\n",
        "print (\"x: \", x) \n",
        "print (\"x ndim: \", x.ndim) # dimenciones\n",
        "print (\"x shape:\", x.shape) # forma\n",
        "print (\"x size: \", x.size) # cantidad de elementos\n",
        "print (\"x dtype: \", x.dtype) # tipos de elementos"
      ]
    },
    {
      "cell_type": "code",
      "source": [
        "print (\"np.zeros((3,3)):\\n\", np.zeros((3,3))) # crea tendos de 3x3 de zeros\n",
        "print (\"np.ones((3,3)):\\n\", np.ones((3,3))) # crea tensor de 3x3 de unos\n",
        "print (\"np.eye((3)): (identity matrix)\\n\", np.eye((3))) # crea una matriz identidad\n",
        "print (\"np.random.random((3,3)):\\n\", np.random.random((3,3))) # crea matriz random"
      ],
      "metadata": {
        "id": "Bcc1bWY2RGlt"
      },
      "execution_count": null,
      "outputs": []
    },
    {
      "cell_type": "markdown",
      "source": [
        "Una de las operaciones NumPy más comunes que usaremos es la multipli- \n",
        "cación de matrices. Tomamos las filas de nuestra primera matriz (supongamos 2) \n",
        "y las columnas de nuestra segunda matriz (supongamos 2) para determinar el pro- \n",
        "ducto escalar, lo que nos da una salida de 2 x 2. El único requisito es que las \n",
        "dimensiones internas coincidan."
      ],
      "metadata": {
        "id": "5YqLpJu6SWBm"
      }
    },
    {
      "cell_type": "code",
      "source": [
        "a = np.array([[1,2,3], [4,5,6]], dtype=np.int32) \n",
        "b = np.array([[7,8], [9,10], [11, 12]], dtype=np.int32) \n",
        "c = a.dot(b) \n",
        "print (f\"{a.shape} · {b.shape} = {c.shape}\") # funcion\n",
        "print (c)"
      ],
      "metadata": {
        "colab": {
          "base_uri": "https://localhost:8080/"
        },
        "id": "m3JHPFqTSJS-",
        "outputId": "c93c3dc3-41c7-4db2-affc-6b90fbf7b7d4"
      },
      "execution_count": 6,
      "outputs": [
        {
          "output_type": "stream",
          "name": "stdout",
          "text": [
            "(2, 3) · (3, 2) = (2, 2)\n",
            "[[ 58  64]\n",
            " [139 154]]\n"
          ]
        }
      ]
    },
    {
      "cell_type": "markdown",
      "source": [
        "Una transformación que usaremos a menudo será cambiar la forma de los ten- \n",
        "sores:"
      ],
      "metadata": {
        "id": "TjOvo-BUSuod"
      }
    },
    {
      "cell_type": "code",
      "source": [
        "x = np.array([[1,2,3,4,5,6]]) \n",
        "print (x) \n",
        "print (\"x.shape: \", x.shape) \n",
        "print()\n",
        "y = np.reshape(x, (2, 3)) # cambia la forma de la matriz\n",
        "print (\"y: \\n\", y) \n",
        "print (\"y.shape: \", y.shape) \n",
        "print()\n",
        "z = np.reshape(x, (2, -1)) # cambia la forma de la matriz\n",
        "print (\"z: \\n\", z) \n",
        "print (\"z.shape: \", z.shape)"
      ],
      "metadata": {
        "colab": {
          "base_uri": "https://localhost:8080/"
        },
        "id": "abSe5GSLSgSU",
        "outputId": "e1ac412b-22a5-4102-b283-e979586088a7"
      },
      "execution_count": 8,
      "outputs": [
        {
          "output_type": "stream",
          "name": "stdout",
          "text": [
            "[[1 2 3 4 5 6]]\n",
            "x.shape:  (1, 6)\n",
            "y: \n",
            " [[1 2 3]\n",
            " [4 5 6]]\n",
            "y.shape:  (2, 3)\n",
            "\n",
            "z: \n",
            " [[1 2 3]\n",
            " [4 5 6]]\n",
            "z.shape:  (2, 3)\n"
          ]
        }
      ]
    },
    {
      "cell_type": "markdown",
      "source": [
        "cómo añadir dimensiones \n",
        "a un tensor. "
      ],
      "metadata": {
        "id": "PU18hcygTCfQ"
      }
    },
    {
      "cell_type": "code",
      "source": [
        "x = np.array([[1,2,3],[4,5,6]]) \n",
        "print (\"x:\\n\", x)\n",
        "print (\"x.shape: \", x.shape) \n",
        "\n",
        "print()\n",
        "\n",
        "y = np.expand_dims(x, 1) \n",
        "print (\"y: \\n\", y) \n",
        "print (\"y.shape: \", y.shape)"
      ],
      "metadata": {
        "colab": {
          "base_uri": "https://localhost:8080/"
        },
        "id": "GMlAT2P1Sz7D",
        "outputId": "8785a05f-8dd3-443b-a9e5-bdb3aba45939"
      },
      "execution_count": 10,
      "outputs": [
        {
          "output_type": "stream",
          "name": "stdout",
          "text": [
            "x:\n",
            " [[1 2 3]\n",
            " [4 5 6]]\n",
            "x.shape:  (2, 3)\n",
            "\n",
            "y: \n",
            " [[[1 2 3]]\n",
            "\n",
            " [[4 5 6]]]\n",
            "y.shape:  (2, 1, 3)\n"
          ]
        }
      ]
    },
    {
      "cell_type": "markdown",
      "source": [
        "cómo borrar dimensiones \n",
        "a un tensor. "
      ],
      "metadata": {
        "id": "lXxS10hbTgJS"
      }
    },
    {
      "cell_type": "code",
      "source": [
        "x = np.array([[[1,2,3]],[[4,5,6]]]) \n",
        "print (\"x:\\n\", x) \n",
        "print (\"x.shape: \", x.shape) \n",
        "\n",
        "y = np.squeeze(x, 1) # elimina la segunda dimencion \n",
        "print (\"y: \\n\", y) \n",
        "print (\"y.shape: \", y.shape)"
      ],
      "metadata": {
        "colab": {
          "base_uri": "https://localhost:8080/"
        },
        "id": "VDcRknsYTFSE",
        "outputId": "4a3465aa-220e-49e5-f668-56e4e2a09f66"
      },
      "execution_count": 11,
      "outputs": [
        {
          "output_type": "stream",
          "name": "stdout",
          "text": [
            "x:\n",
            " [[[1 2 3]]\n",
            "\n",
            " [[4 5 6]]]\n",
            "x.shape:  (2, 1, 3)\n",
            "y: \n",
            " [[1 2 3]\n",
            " [4 5 6]]\n",
            "y.shape:  (2, 3)\n"
          ]
        }
      ]
    },
    {
      "cell_type": "markdown",
      "source": [
        ""
      ],
      "metadata": {
        "id": "ivHr1HyWT2Qr"
      }
    },
    {
      "cell_type": "code",
      "source": [
        "x = np.array([1,2,3,4]) \n",
        "print (x) \n",
        "  \n",
        "print (np.argmax(x)) # posicion del valor maximo\n",
        "print (np.max(x)) # posicion valor maximo"
      ],
      "metadata": {
        "colab": {
          "base_uri": "https://localhost:8080/"
        },
        "id": "P7-vT1UiTkmk",
        "outputId": "65d53c6d-0b80-40eb-f84a-9fb6bb34bbf9"
      },
      "execution_count": 12,
      "outputs": [
        {
          "output_type": "stream",
          "name": "stdout",
          "text": [
            "[1 2 3 4]\n",
            "3\n",
            "4\n"
          ]
        }
      ]
    },
    {
      "cell_type": "code",
      "source": [
        "x = np.array([[1,2,3,4], [5,6,7,8], [9,10,11,12]])\n",
        "\n",
        "print (np.argmax(x, axis=0)) # en la primera posicion\n",
        "print (np.max(x, axis=0)) \n",
        "\n",
        "print (np.argmax(x, axis=1)) # en la segunda posicion\n",
        "print (np.max(x, axis=1))"
      ],
      "metadata": {
        "colab": {
          "base_uri": "https://localhost:8080/"
        },
        "id": "PG-hVhvOURPb",
        "outputId": "928bc359-0de0-4080-d79f-a9f81b197613"
      },
      "execution_count": 14,
      "outputs": [
        {
          "output_type": "stream",
          "name": "stdout",
          "text": [
            "[2 2 2 2]\n",
            "[ 9 10 11 12]\n",
            "[3 3 3]\n",
            "[ 4  8 12]\n"
          ]
        }
      ]
    },
    {
      "cell_type": "code",
      "source": [
        ""
      ],
      "metadata": {
        "id": "PDRZbsEWUYwj"
      },
      "execution_count": null,
      "outputs": []
    }
  ]
}