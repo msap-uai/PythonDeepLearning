{
  "nbformat": 4,
  "nbformat_minor": 0,
  "metadata": {
    "colab": {
      "name": "Capitulo 3 Python.ipynb",
      "provenance": [],
      "toc_visible": true,
      "authorship_tag": "ABX9TyMi8Rar5CA45G4m06z2qJnM",
      "include_colab_link": true
    },
    "kernelspec": {
      "name": "python3",
      "display_name": "Python 3"
    },
    "language_info": {
      "name": "python"
    }
  },
  "cells": [
    {
      "cell_type": "markdown",
      "metadata": {
        "id": "view-in-github",
        "colab_type": "text"
      },
      "source": [
        "<a href=\"https://colab.research.google.com/github/msap-uai/PythonDeepLearning/blob/main/Capitulo_3_Python.ipynb\" target=\"_parent\"><img src=\"https://colab.research.google.com/assets/colab-badge.svg\" alt=\"Open In Colab\"/></a>"
      ]
    },
    {
      "cell_type": "code",
      "execution_count": null,
      "metadata": {
        "id": "zXPvS3vkDYBf"
      },
      "outputs": [],
      "source": [
        "dir(str) # proporciona los metodos de un objeto, aqui srt"
      ]
    },
    {
      "cell_type": "code",
      "source": [
        "# importar una libreria\n",
        "from random import randint \n",
        "randomint = randint(1, 100) \n",
        "print(randomint)"
      ],
      "metadata": {
        "colab": {
          "base_uri": "https://localhost:8080/"
        },
        "id": "xB9t_pXqDcg8",
        "outputId": "87e83043-be0e-46df-b931-b0f737ec49f1"
      },
      "execution_count": 2,
      "outputs": [
        {
          "output_type": "stream",
          "name": "stdout",
          "text": [
            "13\n"
          ]
        }
      ]
    },
    {
      "cell_type": "code",
      "source": [
        "# variables\n",
        "num = 10\n",
        "float = 11.1\n",
        "bool = True\n",
        "string = \"hola\"\n",
        "print (type(num)) # informa sobre el tipo de variables"
      ],
      "metadata": {
        "colab": {
          "base_uri": "https://localhost:8080/"
        },
        "id": "GUKF3ZHNEF5z",
        "outputId": "134f2fd1-f766-4309-f3dc-7566bc22a683"
      },
      "execution_count": 7,
      "outputs": [
        {
          "output_type": "stream",
          "name": "stdout",
          "text": [
            "<class 'int'>\n"
          ]
        }
      ]
    },
    {
      "cell_type": "code",
      "source": [
        "# operadores matematicos\n",
        "# + , - , / , *, **\n",
        "# operadores de asignacion\n",
        "# +=, -=, etc\n"
      ],
      "metadata": {
        "id": "dv6zJ4zjEOyr"
      },
      "execution_count": null,
      "outputs": []
    },
    {
      "cell_type": "markdown",
      "source": [
        "# Estructura de datos"
      ],
      "metadata": {
        "id": "aYd4qEW1GTOc"
      }
    },
    {
      "cell_type": "code",
      "source": [
        "#listas\n",
        "lista = [5,\"hola\", True]\n",
        "# estructura + punto muestra las funciones\n",
        "lista.append(11.5)# agrega\n",
        "print(lista[1]) # segundo valor\n",
        "print(lista[-1]) # ultimo elemento\n",
        "print(lista[2:])# del tercer elemento al final\n",
        "print(lista[1:3])# solo el segundo al cuarto elemento\n",
        "print(len(lista))# cantidad de elementos\n",
        "# dis listas se pueden sumar"
      ],
      "metadata": {
        "colab": {
          "base_uri": "https://localhost:8080/"
        },
        "id": "GZEvO1QhE9QN",
        "outputId": "83f26036-aae1-4e10-b070-b86709a5dcaa"
      },
      "execution_count": 9,
      "outputs": [
        {
          "output_type": "stream",
          "name": "stdout",
          "text": [
            "hola\n",
            "11.5\n",
            "[True, 11.5]\n",
            "4\n"
          ]
        }
      ]
    },
    {
      "cell_type": "code",
      "source": [
        "#Diccionarios\n",
        "persona = {'nombre': 'Jordi Torres', 'profesion': 'profesor'} \n",
        "print (persona) \n",
        "print (persona['nombre']) \n",
        "print (persona['profesion'])\n",
        "persona['profesion'] = \"investigador\" # cambia el valor\n",
        "persona['grupo'] = 24 # agrega dato\n",
        "print(persona['grupo'])\n",
        "print (len(persona)) # cantidad de elementos"
      ],
      "metadata": {
        "colab": {
          "base_uri": "https://localhost:8080/"
        },
        "id": "2AAt4WKBFLr7",
        "outputId": "9adb21bd-1f97-4238-c7cf-32e1e990f916"
      },
      "execution_count": 12,
      "outputs": [
        {
          "output_type": "stream",
          "name": "stdout",
          "text": [
            "{'nombre': 'Jordi Torres', 'profesion': 'profesor'}\n",
            "Jordi Torres\n",
            "profesor\n",
            "24\n",
            "3\n"
          ]
        }
      ]
    },
    {
      "cell_type": "markdown",
      "source": [
        "# Sentencias de control de flujo"
      ],
      "metadata": {
        "id": "2y3RtMmuHA3-"
      }
    },
    {
      "cell_type": "markdown",
      "source": [
        "## IF"
      ],
      "metadata": {
        "id": "nWEQI8MPHlsS"
      }
    },
    {
      "cell_type": "code",
      "source": [
        "# if\n",
        "x = 6.5 \n",
        "if x < 5: \n",
        "  puntuacion = 'baja' \n",
        "elif x <= 7: # elif = else if \n",
        "  puntuacion = 'media' \n",
        "else: \n",
        "  puntuacion = 'alta' \n",
        "print (puntuacion)"
      ],
      "metadata": {
        "colab": {
          "base_uri": "https://localhost:8080/"
        },
        "id": "OhLAXWOAGd-w",
        "outputId": "89f05d1e-2b99-4b20-b548-078925048ca3"
      },
      "execution_count": 13,
      "outputs": [
        {
          "output_type": "stream",
          "name": "stdout",
          "text": [
            "media\n"
          ]
        }
      ]
    },
    {
      "cell_type": "code",
      "source": [
        "x = True \n",
        "if x: \n",
        "    print (\"se da la condición\")"
      ],
      "metadata": {
        "colab": {
          "base_uri": "https://localhost:8080/"
        },
        "id": "G9PS70K0HKBB",
        "outputId": "01a7c3fe-4a95-44c2-fc3c-689e8786b842"
      },
      "execution_count": 14,
      "outputs": [
        {
          "output_type": "stream",
          "name": "stdout",
          "text": [
            "se da la condición\n"
          ]
        }
      ]
    },
    {
      "cell_type": "code",
      "source": [
        "b = 1 \n",
        "print ( \"Paris\" if b >= 92 else \"Barcelona\" )"
      ],
      "metadata": {
        "colab": {
          "base_uri": "https://localhost:8080/"
        },
        "id": "1fx_UwIcHPyx",
        "outputId": "60455c18-e211-478a-d7cd-2350ade61ca6"
      },
      "execution_count": 15,
      "outputs": [
        {
          "output_type": "stream",
          "name": "stdout",
          "text": [
            "Barcelona\n"
          ]
        }
      ]
    },
    {
      "cell_type": "markdown",
      "source": [
        "# FOR"
      ],
      "metadata": {
        "id": "51wtzbuKHntX"
      }
    },
    {
      "cell_type": "code",
      "source": [
        "# FOR\n",
        "for a in range (1,4): \n",
        "  print (a) "
      ],
      "metadata": {
        "colab": {
          "base_uri": "https://localhost:8080/"
        },
        "id": "vUjDz_cZHYBB",
        "outputId": "c195ce01-e96b-43ce-d970-d363edd61c04"
      },
      "execution_count": 16,
      "outputs": [
        {
          "output_type": "stream",
          "name": "stdout",
          "text": [
            "1\n",
            "2\n",
            "3\n"
          ]
        }
      ]
    },
    {
      "cell_type": "code",
      "source": [
        "universidades = [\"UPC\", \"UPM\", \"UPV\"] \n",
        "for universidad in universidades: \n",
        "    print (universidad)"
      ],
      "metadata": {
        "colab": {
          "base_uri": "https://localhost:8080/"
        },
        "id": "UA-CCxeWHejZ",
        "outputId": "4776c24b-29d5-47e5-e626-1a48e1efb1db"
      },
      "execution_count": 17,
      "outputs": [
        {
          "output_type": "stream",
          "name": "stdout",
          "text": [
            "UPC\n",
            "UPM\n",
            "UPV\n"
          ]
        }
      ]
    },
    {
      "cell_type": "code",
      "source": [
        "for universidad in universidades: \n",
        "    if universidad == \"UPM\": \n",
        "        break # termina el loop\n",
        "    print (universidad)"
      ],
      "metadata": {
        "colab": {
          "base_uri": "https://localhost:8080/"
        },
        "id": "25n4uI5YHi_x",
        "outputId": "7177d6de-a3d5-409c-9c59-4ac581f4a453"
      },
      "execution_count": 18,
      "outputs": [
        {
          "output_type": "stream",
          "name": "stdout",
          "text": [
            "UPC\n"
          ]
        }
      ]
    },
    {
      "cell_type": "code",
      "source": [
        "for universidad in universidades: \n",
        "    if universidad == \"UPM\": \n",
        "      continue # salta el codigo siguiente\n",
        "    print (universidad)"
      ],
      "metadata": {
        "colab": {
          "base_uri": "https://localhost:8080/"
        },
        "id": "aRdjGvmPHvWQ",
        "outputId": "10195506-2cc0-4a36-d9a9-1898920bbffe"
      },
      "execution_count": 19,
      "outputs": [
        {
          "output_type": "stream",
          "name": "stdout",
          "text": [
            "UPC\n",
            "UPV\n"
          ]
        }
      ]
    },
    {
      "cell_type": "markdown",
      "source": [
        "## WHILE"
      ],
      "metadata": {
        "id": "6ZuuexBVH7hb"
      }
    },
    {
      "cell_type": "code",
      "source": [
        "x = 3 \n",
        "while x > 0: \n",
        "    x = x - 1 \n",
        "    print (x)"
      ],
      "metadata": {
        "colab": {
          "base_uri": "https://localhost:8080/"
        },
        "id": "21YPCxxXH6FQ",
        "outputId": "11fe6c80-eb4b-4ac6-ebac-7f7547a01bd4"
      },
      "execution_count": 20,
      "outputs": [
        {
          "output_type": "stream",
          "name": "stdout",
          "text": [
            "2\n",
            "1\n",
            "0\n"
          ]
        }
      ]
    },
    {
      "cell_type": "code",
      "source": [
        ""
      ],
      "metadata": {
        "id": "gFeIKBPSH_3I"
      },
      "execution_count": null,
      "outputs": []
    },
    {
      "cell_type": "markdown",
      "source": [
        "# FUNCIONES\n",
        "Python permite que las funciones devuelvan un único valor, \n",
        "o una lista de valores:"
      ],
      "metadata": {
        "id": "qKza9PggIBqi"
      }
    },
    {
      "cell_type": "code",
      "source": [
        "def mi_universidad(universidad = \"UPC\"): # parametro default\n",
        "  y = \"Mi universidad es la \" + universidad \n",
        "  return (y) \n",
        "  \n",
        "print (mi_universidad(\"UPM\")) \n",
        "print (mi_universidad(universidad =\"UPV\")) \n",
        "print (mi_universidad())"
      ],
      "metadata": {
        "colab": {
          "base_uri": "https://localhost:8080/"
        },
        "id": "eJExwWFdIC7o",
        "outputId": "e4ded82f-7f50-49b6-e982-7c108c3413f5"
      },
      "execution_count": 21,
      "outputs": [
        {
          "output_type": "stream",
          "name": "stdout",
          "text": [
            "Mi universidad es la UPM\n",
            "Mi universidad es la UPV\n",
            "Mi universidad es la UPC\n"
          ]
        }
      ]
    },
    {
      "cell_type": "markdown",
      "source": [
        "Python admite funciones lambda (también conocidas como funciones anó- \n",
        "nimas), que facilitan la lectura y comprensión del código, ya que se pueden definir \n",
        "en una sola línea y en el momento justo."
      ],
      "metadata": {
        "id": "j9kJlyCAIlzA"
      }
    },
    {
      "cell_type": "code",
      "source": [
        "fibonacci = (lambda x:1 if x <= 2 else \n",
        "            fibonacci(x-1) + fibonacci(x-2)) \n",
        "  \n",
        "fibonacci(10)"
      ],
      "metadata": {
        "colab": {
          "base_uri": "https://localhost:8080/"
        },
        "id": "1SCSes8yIJjw",
        "outputId": "37a2080a-7b34-45e0-bced-966928edb1e5"
      },
      "execution_count": 22,
      "outputs": [
        {
          "output_type": "execute_result",
          "data": {
            "text/plain": [
              "55"
            ]
          },
          "metadata": {},
          "execution_count": 22
        }
      ]
    },
    {
      "cell_type": "markdown",
      "source": [
        "# DECORADORES (FUNCIONES)\n",
        "agrega alguna funcionalidad antes o después de que se ejecute \n",
        "la función principal"
      ],
      "metadata": {
        "id": "8oskJJq-NLW0"
      }
    },
    {
      "cell_type": "code",
      "source": [
        "#funcion\n",
        "def voy_a_imprimir_Hola(): \n",
        "    print(\"Hola\")\n",
        "# decorador\n",
        "def my_decorator(func): # pasa una funcion como parametro\n",
        "    def wrapper(): \n",
        "        print(\"[Aviso: voy a decir algo]\") \n",
        "        func() # ejecuta la funcion que se paso\n",
        "        print(\"[Aviso: ya he dicho algo]\") \n",
        "    return wrapper \n",
        "  \n",
        "voy_a_imprimir_Hola = my_decorator(voy_a_imprimir_Hola) \n",
        "  \n",
        "voy_a_imprimir_Hola ()"
      ],
      "metadata": {
        "colab": {
          "base_uri": "https://localhost:8080/"
        },
        "id": "p8vGdzVkM0-O",
        "outputId": "d87d216b-d9ca-4b79-b364-a9b65c782586"
      },
      "execution_count": 29,
      "outputs": [
        {
          "output_type": "stream",
          "name": "stdout",
          "text": [
            "[Aviso: voy a decir algo]\n",
            "Hola\n",
            "[Aviso: ya he dicho algo]\n"
          ]
        }
      ]
    },
    {
      "cell_type": "markdown",
      "source": [
        "# Sección nueva"
      ],
      "metadata": {
        "id": "ZRfRrS7vOPjR"
      }
    },
    {
      "cell_type": "markdown",
      "source": [
        "# CLASES\n",
        "Las clases son constructoras de objetos y son un componente fundamental de la \n",
        "programación orientada a objetos en Python. Están compuestas por un conjunto \n",
        "de métodos que definen la clase y sus operaciones. "
      ],
      "metadata": {
        "id": "xWJwXyKXItBj"
      }
    },
    {
      "cell_type": "code",
      "source": [
        "class Acumulador(object): \n",
        "    \"\"\"Clase que acumula un digito\"\"\" \n",
        "  \n",
        "    def __init__(self): \n",
        "        \"\"\"parametros\"\"\" \n",
        "        self.valor = 0 \n",
        "  \n",
        "    def suma(self, n): \n",
        "        \"\"\"METODO\"\"\" \n",
        "        self.valor += n \n",
        "  \n",
        "    def getValor(self): \n",
        "        \"\"\"Get\"\"\" \n",
        "        return self.valor"
      ],
      "metadata": {
        "id": "0DXz7QmEInBY"
      },
      "execution_count": 23,
      "outputs": []
    },
    {
      "cell_type": "code",
      "source": [
        "plus = Acumulador() # instancia de la clase\n",
        "plus.suma(2) \n",
        "plus.suma(3) \n",
        "print(plus.getValor()) \n"
      ],
      "metadata": {
        "colab": {
          "base_uri": "https://localhost:8080/"
        },
        "id": "6zyjWBWAL4Z4",
        "outputId": "95b4499e-8adf-4aee-ddd7-62e4d31664de"
      },
      "execution_count": 25,
      "outputs": [
        {
          "output_type": "stream",
          "name": "stdout",
          "text": [
            "5\n"
          ]
        }
      ]
    },
    {
      "cell_type": "markdown",
      "source": [
        "# ITINERADOR"
      ],
      "metadata": {
        "id": "mAuI255KMiPd"
      }
    },
    {
      "cell_type": "code",
      "source": [
        "vector = [1, 2, 3] # vector\n",
        "it = iter(vector) # intancia para itinerar en forma secuencial\n",
        "type(vector)\n",
        "type (it) #objeto\n",
        "next(it)"
      ],
      "metadata": {
        "colab": {
          "base_uri": "https://localhost:8080/"
        },
        "id": "YZy6xKpKMlGu",
        "outputId": "671a0702-d620-42d5-c63b-42e576458bc9"
      },
      "execution_count": 28,
      "outputs": [
        {
          "output_type": "execute_result",
          "data": {
            "text/plain": [
              "1"
            ]
          },
          "metadata": {},
          "execution_count": 28
        }
      ]
    },
    {
      "cell_type": "code",
      "source": [
        "next(it)"
      ],
      "metadata": {
        "colab": {
          "base_uri": "https://localhost:8080/"
        },
        "id": "iFz5LG6IMzLk",
        "outputId": "e819dfa1-ce32-4c19-baf2-06eee4dc3431"
      },
      "execution_count": 27,
      "outputs": [
        {
          "output_type": "execute_result",
          "data": {
            "text/plain": [
              "2"
            ]
          },
          "metadata": {},
          "execution_count": 27
        }
      ]
    }
  ]
}