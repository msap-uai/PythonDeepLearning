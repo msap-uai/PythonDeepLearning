{
  "nbformat": 4,
  "nbformat_minor": 0,
  "metadata": {
    "colab": {
      "name": "Capitulo 1 y 2.ipynb",
      "provenance": [],
      "authorship_tag": "ABX9TyP+xFMPRePmNL7IFBdpvjP3",
      "include_colab_link": true
    },
    "kernelspec": {
      "name": "python3",
      "display_name": "Python 3"
    },
    "language_info": {
      "name": "python"
    }
  },
  "cells": [
    {
      "cell_type": "markdown",
      "metadata": {
        "id": "view-in-github",
        "colab_type": "text"
      },
      "source": [
        "<a href=\"https://colab.research.google.com/github/msap-uai/PythonDeepLearning/blob/main/Capitulo_1_y_2.ipynb\" target=\"_parent\"><img src=\"https://colab.research.google.com/assets/colab-badge.svg\" alt=\"Open In Colab\"/></a>"
      ]
    },
    {
      "cell_type": "markdown",
      "source": [
        "#CAPITULO 1. ¿Qué es el Deep Learning?\n",
        "\n",
        "TenSorFlow es una entorno para el desarrollo de Deep Leaning. Permite tambien integrarlo en forma local, en moviles, paginas web y en integrados (Raspberry Pi)\n",
        "\n",
        "Keras proporciona modelos ya establecidos de Deep Learning mediante una API"
      ],
      "metadata": {
        "id": "-PFVNSTiAdB0"
      }
    },
    {
      "cell_type": "markdown",
      "source": [
        "#CAPITULO 2. Librerias\n"
      ],
      "metadata": {
        "id": "zRml0ThFCubA"
      }
    },
    {
      "cell_type": "code",
      "execution_count": 2,
      "metadata": {
        "colab": {
          "base_uri": "https://localhost:8080/"
        },
        "id": "3ns0OVZO5jjZ",
        "outputId": "836fadd6-57ee-4988-b5ec-424f4cbb476b"
      },
      "outputs": [
        {
          "output_type": "stream",
          "name": "stdout",
          "text": [
            "GPU Available:  False\n",
            "2.8.0\n"
          ]
        }
      ],
      "source": [
        "import tensorflow as tf \n",
        "from tensorflow import keras\n",
        "\n",
        "print(\"GPU Available: \", tf.test.is_gpu_available()) # informa si hay gpu disponible\n",
        "\n",
        "print(tf.__version__)\n",
        "Print (tf.keras.__version__)"
      ]
    },
    {
      "cell_type": "code",
      "source": [
        ""
      ],
      "metadata": {
        "id": "w5D9oDasC8tM"
      },
      "execution_count": null,
      "outputs": []
    }
  ]
}